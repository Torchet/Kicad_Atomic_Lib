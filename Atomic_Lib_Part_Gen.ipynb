{
 "cells": [
  {
   "cell_type": "code",
   "execution_count": 30,
   "metadata": {},
   "outputs": [],
   "source": [
    "# lecture du fichier 01c.csv (colones de données séparées par virgule; la première et la dernière ligne sont ignorées; toute les données sont transférées dans la variable data\n",
    "# from pylab import *              # librairie matématique : on l'importe en ploc pour ne pas à avoir à mettre des préfixe sur les fonctions mathématiques de base\n",
    "import os, fnmatch\n",
    "import glob\n",
    "import re\n",
    "\n",
    "#from scipy import stats  # entre autre, distribution chi2 (.cdf pour p-value)\n",
    "import pandas as pd  # fonction d'importation de routine pour traitement de donnée\n",
    "import numpy as np  # librairie numérique de base permettant de manipuler matrices et vecteurs comme en MatLab\n",
    "import matplotlib.pyplot as plt  # librairie de génération de graphiques\n",
    "import matplotlib as mpl\n",
    "plt.rcParams[\"axes.grid\"] = True\n",
    "# plt.rcParams[\"text.usetex\"] = True\n",
    "# Configuration des options d'affichage du tableau latex de sortie\n",
    "# pd.set_option(\"display.latex.longtable\", True)\n",
    "# pd.set_option(\"display.latex.escape\", False)\n",
    "path = \"Donnees/DTS\""
   ]
  },
  {
   "cell_type": "markdown",
   "metadata": {},
   "source": [
    "# Atomic Resistor Generic Information"
   ]
  },
  {
   "cell_type": "markdown",
   "metadata": {},
   "source": [
    "## Package Size, Power Rating"
   ]
  },
  {
   "cell_type": "code",
   "execution_count": 31,
   "metadata": {},
   "outputs": [],
   "source": [
    "# Array with package size and Power Rating\n",
    "SMD_Pack_Size_Imperial = [\"0603\",\"0805\",\"1206\"]\n",
    "SMD_Pack_Size_Metric = [\"1608\",\"2012\",\"3216\"]\n",
    "SMD_Power_Rating = [\"1/10\",\"1/8\",\"1/4\"]"
   ]
  },
  {
   "cell_type": "markdown",
   "metadata": {},
   "source": [
    "## Resistance Value tolerance and range"
   ]
  },
  {
   "cell_type": "code",
   "execution_count": 32,
   "metadata": {},
   "outputs": [],
   "source": [
    "file_path=\"Useful_table\"\n",
    "list_file_Series = glob.glob(f\"Useful_table/*.txt\")\n",
    "Series_Val = {}\n",
    "# We fetch the table with the E series values \n",
    "for file in list_file_Series :\n",
    "    # Filtering the filename string to get the keys\n",
    "    splitted_filename = file.split(\"\\\\\")\n",
    "    key = splitted_filename[1].replace(\"_Table.txt\",\"\")\n",
    "    # Opening the table and fetching the data\n",
    "    with open(file) as f :\n",
    "        # Putting the value in a dictionnary\n",
    "        Series_Val[key] = f.read().split()"
   ]
  },
  {
   "cell_type": "markdown",
   "metadata": {},
   "source": [
    "## Resistance/Capacitor fields in the atomic lib"
   ]
  },
  {
   "cell_type": "code",
   "execution_count": 35,
   "metadata": {},
   "outputs": [],
   "source": [
    "Resistor_AL_Fields = [\"Part ID\",\"Manufacturer\",\"MPN\",\"Symbols\",\"Footprints\",\"Description\",\"Value\",\"Resistance\",\"Power Rating\",\"Resistance Tolerance\",\"Case/Package Size\",\"Verified\"]\n",
    "Capacitor_AL_Fields = [\"Part ID\",\"Manufacturer\",\"MPN\",\"Symbols\",\"Footprints\",\"Description\",\"Value\",\"Capacitance\",\"Voltage Rating\",\"Capacitance Tolerance\",\"Dielectric Type\",\"Case/Package Size\",\"Verified\"]"
   ]
  },
  {
   "cell_type": "markdown",
   "metadata": {},
   "source": [
    "## Yageo Test of Generation"
   ]
  },
  {
   "cell_type": "code",
   "execution_count": 51,
   "metadata": {},
   "outputs": [
    {
     "name": "stdout",
     "output_type": "stream",
     "text": [
      "3\n",
      "3\n",
      "3\n",
      "3\n",
      "3\n",
      "3\n",
      "3\n",
      "3\n",
      "3\n",
      "3\n",
      "3\n",
      "3\n",
      "3\n",
      "3\n",
      "3\n",
      "3\n",
      "3\n",
      "3\n",
      "3\n",
      "3\n",
      "3\n",
      "3\n",
      "3\n",
      "3\n"
     ]
    }
   ],
   "source": [
    "\n",
    "Manufacturer = \"Yageo\"\n",
    "Verified = \"0\"\n",
    "\n",
    "Resistor_E24_Yageo = []\n",
    "# We fetch the series value to generate our range of resistor, here 100 to 100k\n",
    "R_val = []\n",
    "\"\"\"\n",
    "for i in range(3) :\n",
    "    print(i)\n",
    "    for values in Series_Val[\"E24_T5\"] :\n",
    "        print(values)\"\"\"\n",
    "for values in Series_Val[\"E24_T5\"] :\n",
    "    \n",
    "    print(len(values))"
   ]
  }
 ],
 "metadata": {
  "kernelspec": {
   "display_name": "Python 3",
   "language": "python",
   "name": "python3"
  },
  "language_info": {
   "codemirror_mode": {
    "name": "ipython",
    "version": 3
   },
   "file_extension": ".py",
   "mimetype": "text/x-python",
   "name": "python",
   "nbconvert_exporter": "python",
   "pygments_lexer": "ipython3",
   "version": "3.12.3"
  }
 },
 "nbformat": 4,
 "nbformat_minor": 2
}
